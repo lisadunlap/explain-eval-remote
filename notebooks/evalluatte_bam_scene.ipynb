{
 "cells": [
  {
   "cell_type": "markdown",
   "metadata": {},
   "source": [
    "# Imagenet Dir Preproceessing"
   ]
  },
  {
   "cell_type": "code",
   "execution_count": 1,
   "metadata": {},
   "outputs": [],
   "source": [
    "import os\n",
    "import glob\n",
    "import numpy as np"
   ]
  },
  {
   "cell_type": "code",
   "execution_count": 3,
   "metadata": {},
   "outputs": [
    {
     "name": "stdout",
     "output_type": "stream",
     "text": [
      "13801\n"
     ]
    }
   ],
   "source": [
    "i = 0\n",
    "for file in glob.glob('../results/bam_lime_gcam_train/*/*/*'):\n",
    "    i+= 1\n",
    "print(i)"
   ]
  },
  {
   "cell_type": "code",
   "execution_count": 6,
   "metadata": {},
   "outputs": [],
   "source": [
    "import csv\n",
    "def write_to_csv(row, filename):\n",
    "    with open(filename, 'a+') as csvFile:\n",
    "                    writer = csv.writer(csvFile)\n",
    "                    writer.writerow(row)"
   ]
  },
  {
   "cell_type": "code",
   "execution_count": 35,
   "metadata": {},
   "outputs": [
    {
     "name": "stdout",
     "output_type": "stream",
     "text": [
      "expl:  200\n"
     ]
    }
   ],
   "source": [
    "SCENE_NAMES = [\n",
    "    'bamboo_forest', 'bedroom', 'bowling_alley', 'bus_interior', 'cockpit',\n",
    "    'corn_field', 'laundromat', 'runway', 'ski_slope', 'track/outdoor'\n",
    "]\n",
    "\n",
    "new_names = ['bamboo_forest', 'bedroom', 'bowling_alley', 'bus_interior', 'cockpit']\n",
    "\n",
    "i=0\n",
    "line = ['class', 'correct/incorrect', 'name']\n",
    "#write_to_csv(line, '../results/bam_new/overview.csv')\n",
    "\n",
    "for root, dirs, files in os.walk(\"../results/bam_lime_gcam_train/\"):\n",
    "    path = root.split(os.sep)\n",
    "    #if len(path[3:]) == 3:\n",
    "        #write_to_csv(path[3:], '../results/bam_new/overview.csv')\n",
    "    for j in range(len(new_names)):\n",
    "        if new_names[j] in path:\n",
    "            pth = os.path.basename(root)\n",
    "            if ('backpack' in pth or 'bird' in pth or 'dog' in pth or 'elephant' in pth) and i<200 :\n",
    "                i += 1\n",
    "                #print((len(path) - 1) * '---', os.path.basename(root))\n",
    "print('expl: ', i)\n",
    "    #for file in files:\n",
    "    #    print(len(path) * '---', file)"
   ]
  },
  {
   "cell_type": "code",
   "execution_count": 22,
   "metadata": {},
   "outputs": [],
   "source": [
    "for label in labels:\n",
    "    if not os.path.exists(os.path.join('../data/ILSVRC2012_val/'+str(label))):\n",
    "        os.makedirs(os.path.join('../data/ILSVRC2012_val/'+str(label)))"
   ]
  },
  {
   "cell_type": "code",
   "execution_count": 24,
   "metadata": {},
   "outputs": [
    {
     "name": "stdout",
     "output_type": "stream",
     "text": [
      "file with index: ../data/ILSVRC2012_img_val/val/ILSVRC2012_val_00036091.JPEG - 361\n",
      "file with index: ../data/ILSVRC2012_img_val/val/ILSVRC2012_val_00018439.JPEG - 171\n",
      "file with index: ../data/ILSVRC2012_img_val/val/ILSVRC2012_val_00033769.JPEG - 822\n",
      "file with index: ../data/ILSVRC2012_img_val/val/ILSVRC2012_val_00031754.JPEG - 297\n",
      "file with index: ../data/ILSVRC2012_img_val/val/ILSVRC2012_val_00030846.JPEG - 482\n",
      "49999\n"
     ]
    }
   ],
   "source": [
    "i = 0\n",
    "for file, label in zip(glob.glob('../data/ILSVRC2012_img_val/val/*'), labels):\n",
    "    if i < 5:\n",
    "        print('file with index: {0} - {1}'.format(file, label))\n",
    "    i += 1\n",
    "print(i)"
   ]
  },
  {
   "cell_type": "code",
   "execution_count": null,
   "metadata": {},
   "outputs": [],
   "source": []
  }
 ],
 "metadata": {
  "kernelspec": {
   "display_name": "Python 3",
   "language": "python",
   "name": "python3"
  },
  "language_info": {
   "codemirror_mode": {
    "name": "ipython",
    "version": 3
   },
   "file_extension": ".py",
   "mimetype": "text/x-python",
   "name": "python",
   "nbconvert_exporter": "python",
   "pygments_lexer": "ipython3",
   "version": "3.7.3"
  }
 },
 "nbformat": 4,
 "nbformat_minor": 2
}
